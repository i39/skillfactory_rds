{
 "cells": [
  {
   "cell_type": "markdown",
   "metadata": {},
   "source": [
    "# Решение заданий модуля 1 (Кто хочет  стать миллионером?)"
   ]
  },
  {
   "cell_type": "code",
   "execution_count": 1,
   "metadata": {},
   "outputs": [],
   "source": [
    "import pandas as pd\n",
    "import os\n",
    "from collections import Counter"
   ]
  },
  {
   "cell_type": "markdown",
   "metadata": {},
   "source": [
    "####  тестируем доступ к данным"
   ]
  },
  {
   "cell_type": "code",
   "execution_count": 2,
   "metadata": {},
   "outputs": [
    {
     "data": {
      "text/html": [
       "<div>\n",
       "<style scoped>\n",
       "    .dataframe tbody tr th:only-of-type {\n",
       "        vertical-align: middle;\n",
       "    }\n",
       "\n",
       "    .dataframe tbody tr th {\n",
       "        vertical-align: top;\n",
       "    }\n",
       "\n",
       "    .dataframe thead th {\n",
       "        text-align: right;\n",
       "    }\n",
       "</style>\n",
       "<table border=\"1\" class=\"dataframe\">\n",
       "  <thead>\n",
       "    <tr style=\"text-align: right;\">\n",
       "      <th></th>\n",
       "      <th>imdb_id</th>\n",
       "      <th>popularity</th>\n",
       "      <th>budget</th>\n",
       "      <th>revenue</th>\n",
       "      <th>original_title</th>\n",
       "      <th>cast</th>\n",
       "      <th>director</th>\n",
       "      <th>tagline</th>\n",
       "      <th>overview</th>\n",
       "      <th>runtime</th>\n",
       "      <th>genres</th>\n",
       "      <th>production_companies</th>\n",
       "      <th>release_date</th>\n",
       "      <th>vote_count</th>\n",
       "      <th>vote_average</th>\n",
       "      <th>release_year</th>\n",
       "    </tr>\n",
       "  </thead>\n",
       "  <tbody>\n",
       "    <tr>\n",
       "      <th>0</th>\n",
       "      <td>tt0369610</td>\n",
       "      <td>32.985763</td>\n",
       "      <td>150000000</td>\n",
       "      <td>1513528810</td>\n",
       "      <td>Jurassic World</td>\n",
       "      <td>Chris Pratt|Bryce Dallas Howard|Irrfan Khan|Vi...</td>\n",
       "      <td>Colin Trevorrow</td>\n",
       "      <td>The park is open.</td>\n",
       "      <td>Twenty-two years after the events of Jurassic ...</td>\n",
       "      <td>124</td>\n",
       "      <td>Action|Adventure|Science Fiction|Thriller</td>\n",
       "      <td>Universal Studios|Amblin Entertainment|Legenda...</td>\n",
       "      <td>6/9/2015</td>\n",
       "      <td>5562</td>\n",
       "      <td>6.5</td>\n",
       "      <td>2015</td>\n",
       "    </tr>\n",
       "    <tr>\n",
       "      <th>1</th>\n",
       "      <td>tt1392190</td>\n",
       "      <td>28.419936</td>\n",
       "      <td>150000000</td>\n",
       "      <td>378436354</td>\n",
       "      <td>Mad Max: Fury Road</td>\n",
       "      <td>Tom Hardy|Charlize Theron|Hugh Keays-Byrne|Nic...</td>\n",
       "      <td>George Miller</td>\n",
       "      <td>What a Lovely Day.</td>\n",
       "      <td>An apocalyptic story set in the furthest reach...</td>\n",
       "      <td>120</td>\n",
       "      <td>Action|Adventure|Science Fiction|Thriller</td>\n",
       "      <td>Village Roadshow Pictures|Kennedy Miller Produ...</td>\n",
       "      <td>5/13/2015</td>\n",
       "      <td>6185</td>\n",
       "      <td>7.1</td>\n",
       "      <td>2015</td>\n",
       "    </tr>\n",
       "    <tr>\n",
       "      <th>2</th>\n",
       "      <td>tt2908446</td>\n",
       "      <td>13.112507</td>\n",
       "      <td>110000000</td>\n",
       "      <td>295238201</td>\n",
       "      <td>Insurgent</td>\n",
       "      <td>Shailene Woodley|Theo James|Kate Winslet|Ansel...</td>\n",
       "      <td>Robert Schwentke</td>\n",
       "      <td>One Choice Can Destroy You</td>\n",
       "      <td>Beatrice Prior must confront her inner demons ...</td>\n",
       "      <td>119</td>\n",
       "      <td>Adventure|Science Fiction|Thriller</td>\n",
       "      <td>Summit Entertainment|Mandeville Films|Red Wago...</td>\n",
       "      <td>3/18/2015</td>\n",
       "      <td>2480</td>\n",
       "      <td>6.3</td>\n",
       "      <td>2015</td>\n",
       "    </tr>\n",
       "    <tr>\n",
       "      <th>3</th>\n",
       "      <td>tt2488496</td>\n",
       "      <td>11.173104</td>\n",
       "      <td>200000000</td>\n",
       "      <td>2068178225</td>\n",
       "      <td>Star Wars: The Force Awakens</td>\n",
       "      <td>Harrison Ford|Mark Hamill|Carrie Fisher|Adam D...</td>\n",
       "      <td>J.J. Abrams</td>\n",
       "      <td>Every generation has a story.</td>\n",
       "      <td>Thirty years after defeating the Galactic Empi...</td>\n",
       "      <td>136</td>\n",
       "      <td>Action|Adventure|Science Fiction|Fantasy</td>\n",
       "      <td>Lucasfilm|Truenorth Productions|Bad Robot</td>\n",
       "      <td>12/15/2015</td>\n",
       "      <td>5292</td>\n",
       "      <td>7.5</td>\n",
       "      <td>2015</td>\n",
       "    </tr>\n",
       "    <tr>\n",
       "      <th>4</th>\n",
       "      <td>tt2820852</td>\n",
       "      <td>9.335014</td>\n",
       "      <td>190000000</td>\n",
       "      <td>1506249360</td>\n",
       "      <td>Furious 7</td>\n",
       "      <td>Vin Diesel|Paul Walker|Jason Statham|Michelle ...</td>\n",
       "      <td>James Wan</td>\n",
       "      <td>Vengeance Hits Home</td>\n",
       "      <td>Deckard Shaw seeks revenge against Dominic Tor...</td>\n",
       "      <td>137</td>\n",
       "      <td>Action|Crime|Thriller</td>\n",
       "      <td>Universal Pictures|Original Film|Media Rights ...</td>\n",
       "      <td>4/1/2015</td>\n",
       "      <td>2947</td>\n",
       "      <td>7.3</td>\n",
       "      <td>2015</td>\n",
       "    </tr>\n",
       "  </tbody>\n",
       "</table>\n",
       "</div>"
      ],
      "text/plain": [
       "     imdb_id  popularity     budget     revenue                original_title  \\\n",
       "0  tt0369610   32.985763  150000000  1513528810                Jurassic World   \n",
       "1  tt1392190   28.419936  150000000   378436354            Mad Max: Fury Road   \n",
       "2  tt2908446   13.112507  110000000   295238201                     Insurgent   \n",
       "3  tt2488496   11.173104  200000000  2068178225  Star Wars: The Force Awakens   \n",
       "4  tt2820852    9.335014  190000000  1506249360                     Furious 7   \n",
       "\n",
       "                                                cast          director  \\\n",
       "0  Chris Pratt|Bryce Dallas Howard|Irrfan Khan|Vi...   Colin Trevorrow   \n",
       "1  Tom Hardy|Charlize Theron|Hugh Keays-Byrne|Nic...     George Miller   \n",
       "2  Shailene Woodley|Theo James|Kate Winslet|Ansel...  Robert Schwentke   \n",
       "3  Harrison Ford|Mark Hamill|Carrie Fisher|Adam D...       J.J. Abrams   \n",
       "4  Vin Diesel|Paul Walker|Jason Statham|Michelle ...         James Wan   \n",
       "\n",
       "                         tagline  \\\n",
       "0              The park is open.   \n",
       "1             What a Lovely Day.   \n",
       "2     One Choice Can Destroy You   \n",
       "3  Every generation has a story.   \n",
       "4            Vengeance Hits Home   \n",
       "\n",
       "                                            overview  runtime  \\\n",
       "0  Twenty-two years after the events of Jurassic ...      124   \n",
       "1  An apocalyptic story set in the furthest reach...      120   \n",
       "2  Beatrice Prior must confront her inner demons ...      119   \n",
       "3  Thirty years after defeating the Galactic Empi...      136   \n",
       "4  Deckard Shaw seeks revenge against Dominic Tor...      137   \n",
       "\n",
       "                                      genres  \\\n",
       "0  Action|Adventure|Science Fiction|Thriller   \n",
       "1  Action|Adventure|Science Fiction|Thriller   \n",
       "2         Adventure|Science Fiction|Thriller   \n",
       "3   Action|Adventure|Science Fiction|Fantasy   \n",
       "4                      Action|Crime|Thriller   \n",
       "\n",
       "                                production_companies release_date  vote_count  \\\n",
       "0  Universal Studios|Amblin Entertainment|Legenda...     6/9/2015        5562   \n",
       "1  Village Roadshow Pictures|Kennedy Miller Produ...    5/13/2015        6185   \n",
       "2  Summit Entertainment|Mandeville Films|Red Wago...    3/18/2015        2480   \n",
       "3          Lucasfilm|Truenorth Productions|Bad Robot   12/15/2015        5292   \n",
       "4  Universal Pictures|Original Film|Media Rights ...     4/1/2015        2947   \n",
       "\n",
       "   vote_average  release_year  \n",
       "0           6.5          2015  \n",
       "1           7.1          2015  \n",
       "2           6.3          2015  \n",
       "3           7.5          2015  \n",
       "4           7.3          2015  "
      ]
     },
     "execution_count": 2,
     "metadata": {},
     "output_type": "execute_result"
    }
   ],
   "source": [
    "data = pd.read_csv('../input/imbd-sf/data.csv')\n",
    "data.head(5)"
   ]
  },
  {
   "cell_type": "markdown",
   "metadata": {},
   "source": [
    "#### Вопрос 1\n",
    "##### У какого фильма из списка самый большой бюджет?"
   ]
  },
  {
   "cell_type": "code",
   "execution_count": 3,
   "metadata": {},
   "outputs": [
    {
     "name": "stdout",
     "output_type": "stream",
     "text": [
      "491    The Warrior's Way\n",
      "Name: original_title, dtype: object\n"
     ]
    }
   ],
   "source": [
    "print(data[data.budget == data.budget.max()].original_title)"
   ]
  },
  {
   "cell_type": "markdown",
   "metadata": {},
   "source": [
    "#### Вопрос 2\n",
    "##### Какой из фильмов самый длительный (в минутах)?"
   ]
  },
  {
   "cell_type": "code",
   "execution_count": 4,
   "metadata": {},
   "outputs": [
    {
     "name": "stdout",
     "output_type": "stream",
     "text": [
      "1158    Gods and Generals\n",
      "Name: original_title, dtype: object\n"
     ]
    }
   ],
   "source": [
    "print(data[data.runtime == data.runtime.max()].original_title)"
   ]
  },
  {
   "cell_type": "markdown",
   "metadata": {},
   "source": [
    "#### Вопрос 3\n",
    "##### Какой из фильмов самый короткий (в минутах)?"
   ]
  },
  {
   "cell_type": "code",
   "execution_count": 5,
   "metadata": {},
   "outputs": [
    {
     "name": "stdout",
     "output_type": "stream",
     "text": [
      "769    Winnie the Pooh\n",
      "Name: original_title, dtype: object\n"
     ]
    }
   ],
   "source": [
    "print(data[data.runtime == data.runtime.min()].original_title)"
   ]
  },
  {
   "cell_type": "markdown",
   "metadata": {},
   "source": [
    "#### Вопрос 4\n",
    "##### Какое число ближе к средней длительности фильма в датасете?"
   ]
  },
  {
   "cell_type": "code",
   "execution_count": 6,
   "metadata": {},
   "outputs": [
    {
     "name": "stdout",
     "output_type": "stream",
     "text": [
      "109\n"
     ]
    }
   ],
   "source": [
    "print(int(data.runtime.mean()))"
   ]
  },
  {
   "cell_type": "markdown",
   "metadata": {},
   "source": [
    "#### Вопрос  5\n",
    "##### Какое число ближе к медианной длительности фильма в датасете?"
   ]
  },
  {
   "cell_type": "code",
   "execution_count": 7,
   "metadata": {},
   "outputs": [
    {
     "name": "stdout",
     "output_type": "stream",
     "text": [
      "106\n"
     ]
    }
   ],
   "source": [
    "print(int(data.runtime.median()))"
   ]
  },
  {
   "cell_type": "markdown",
   "metadata": {},
   "source": [
    "#### Вопрос 6\n",
    "##### Какой самый прибыльный фильм?"
   ]
  },
  {
   "cell_type": "code",
   "execution_count": 8,
   "metadata": {},
   "outputs": [
    {
     "name": "stdout",
     "output_type": "stream",
     "text": [
      "tt0499549\n"
     ]
    }
   ],
   "source": [
    "# добавляем в датасет новую колонку с прибыльностью фильма\n",
    "data['value']=data['revenue']-data['budget']\n",
    "\n",
    "# выбираем самый  прибыльный фильм\n",
    "print(data.sort_values(['value'],ascending=False).iloc[0].imdb_id)"
   ]
  },
  {
   "cell_type": "markdown",
   "metadata": {},
   "source": [
    "#### Вопрос 7\n",
    "##### Какой фильм самый убыточный?"
   ]
  },
  {
   "cell_type": "code",
   "execution_count": 9,
   "metadata": {},
   "outputs": [
    {
     "name": "stdout",
     "output_type": "stream",
     "text": [
      "tt1032751\n"
     ]
    }
   ],
   "source": [
    "# выбираем самый  убыточный фильм (просто меняем направление сортировки)\n",
    "print(data.sort_values(['value'],ascending=True).iloc[0].imdb_id)"
   ]
  },
  {
   "cell_type": "markdown",
   "metadata": {},
   "source": [
    "#### Вопрос 8\n",
    "##### У скольких фильмов из датасета объем сборов оказался выше бюджета?"
   ]
  },
  {
   "cell_type": "code",
   "execution_count": 10,
   "metadata": {},
   "outputs": [
    {
     "name": "stdout",
     "output_type": "stream",
     "text": [
      "1478\n"
     ]
    }
   ],
   "source": [
    "print(len(data[data.value >0]))"
   ]
  },
  {
   "cell_type": "markdown",
   "metadata": {},
   "source": [
    "#### Вопрос 9\n",
    "#####  Какой фильм оказался самым кассовым в 2008 году?"
   ]
  },
  {
   "cell_type": "code",
   "execution_count": 11,
   "metadata": {},
   "outputs": [
    {
     "name": "stdout",
     "output_type": "stream",
     "text": [
      "tt0468569\n"
     ]
    }
   ],
   "source": [
    "print(data[(data.release_year == 2008)].sort_values(['value'],ascending=False).iloc[0].imdb_id)"
   ]
  },
  {
   "cell_type": "markdown",
   "metadata": {},
   "source": [
    "#### Вопрос 10\n",
    "#####  Самый убыточный фильм за период с 2012 по 2014 гг. (включительно)?"
   ]
  },
  {
   "cell_type": "code",
   "execution_count": 12,
   "metadata": {},
   "outputs": [
    {
     "name": "stdout",
     "output_type": "stream",
     "text": [
      "tt1210819\n"
     ]
    }
   ],
   "source": [
    "print(data[(data.release_year >= 2012) & (data.release_year <= 2014)].sort_values(['value'],ascending=True).iloc[0].imdb_id)"
   ]
  },
  {
   "cell_type": "markdown",
   "metadata": {},
   "source": [
    "#### Вопрос 11\n",
    "#####  Какого жанра фильмов больше всего?"
   ]
  },
  {
   "cell_type": "code",
   "execution_count": 13,
   "metadata": {},
   "outputs": [
    {
     "name": "stdout",
     "output_type": "stream",
     "text": [
      "('Drama', 782)\n"
     ]
    }
   ],
   "source": [
    "# определяем функцию для подсчета количества значений содержащих каждый элемент из строк вида: aaa|bbb|ccc\n",
    "# d: датасет, c_list: Counter() для подсчета значений, f_str: строка обозначающая  столбец датасета для разбивки\n",
    "def all_count(d,c_list,f_str):\n",
    "    for i in d[f_str].split('|'):      \n",
    "        c_list[i]+=1\n",
    "        \n",
    "g_count = Counter()\n",
    "data.T.apply(all_count, args=(g_count,'genres'))      \n",
    "print(sorted(g_count.items(), key=lambda x: x[1], reverse=True)[0])"
   ]
  },
  {
   "cell_type": "markdown",
   "metadata": {},
   "source": [
    "#### Вопрос 12\n",
    "#####  Какого жанра среди прибыльных фильмов больше всего?"
   ]
  },
  {
   "cell_type": "code",
   "execution_count": 14,
   "metadata": {},
   "outputs": [
    {
     "name": "stdout",
     "output_type": "stream",
     "text": [
      "('Drama', 560)\n"
     ]
    }
   ],
   "source": [
    "g_count = Counter()\n",
    "data[(data.value>0)].T.apply(all_count, args=(g_count,'genres'))      \n",
    "print(sorted(g_count.items(), key=lambda x: x[1], reverse=True)[0])"
   ]
  },
  {
   "cell_type": "markdown",
   "metadata": {},
   "source": [
    "#### Вопрос 13\n",
    "#####  Кто из режиссеров снял больше всего фильмов?"
   ]
  },
  {
   "cell_type": "code",
   "execution_count": 16,
   "metadata": {},
   "outputs": [
    {
     "name": "stdout",
     "output_type": "stream",
     "text": [
      "('Steven Soderbergh', 13)\n"
     ]
    }
   ],
   "source": [
    "d_count = Counter()\n",
    "data.T.apply(all_count, args=(d_count,'director'))      \n",
    "print(sorted(d_count.items(), key=lambda x: x[1], reverse=True)[0])"
   ]
  },
  {
   "cell_type": "markdown",
   "metadata": {},
   "source": [
    "#### Вопрос 14\n",
    "#####  Кто из режиссеров снял больше всего прибыльных фильмов?"
   ]
  },
  {
   "cell_type": "code",
   "execution_count": 17,
   "metadata": {},
   "outputs": [
    {
     "name": "stdout",
     "output_type": "stream",
     "text": [
      "('Ridley Scott', 12)\n"
     ]
    }
   ],
   "source": [
    "d_count = Counter()\n",
    "data[(data.value>0)].T.apply(all_count, args=(d_count,'director'))      \n",
    "print(sorted(d_count.items(), key=lambda x: x[1], reverse=True)[0])"
   ]
  },
  {
   "cell_type": "markdown",
   "metadata": {},
   "source": [
    "#### Вопрос 15\n",
    "#####  Кто из режиссеров принес больше всего прибыли?"
   ]
  },
  {
   "cell_type": "code",
   "execution_count": 22,
   "metadata": {},
   "outputs": [
    {
     "name": "stdout",
     "output_type": "stream",
     "text": [
      "('Peter Jackson', 5202593685)\n"
     ]
    }
   ],
   "source": [
    "# определяем функцию для подсчета прибыли(value) значений содержащих каждый элемент из строк вида: aaa|bbb|ccc\n",
    "# d: датасет, c_list: Counter() для подсчета значений, f_str: строка обозначающая  столбец датасета для разбивки\n",
    "def all_value(d,c_list,f_str):\n",
    "    for i in d[f_str].split('|'):      \n",
    "        c_list[i]+=d['value']\n",
    "\n",
    "d_value = Counter()\n",
    "data.T.apply(all_value, args=(d_value,'director'))  \n",
    "print(sorted(d_value.items(), key=lambda x: x[1], reverse=True)[0])"
   ]
  },
  {
   "cell_type": "markdown",
   "metadata": {},
   "source": [
    "#### Вопрос 16\n",
    "#####  Какой актер принес больше всего прибыли?"
   ]
  },
  {
   "cell_type": "code",
   "execution_count": 30,
   "metadata": {},
   "outputs": [
    {
     "name": "stdout",
     "output_type": "stream",
     "text": [
      "('Emma Watson', 6666245597)\n"
     ]
    }
   ],
   "source": [
    "a_value = Counter()\n",
    "data.T.apply(all_value, args=(a_value,'cast'))  \n",
    "print(sorted(a_value.items(), key=lambda x: x[1], reverse=True)[0])"
   ]
  },
  {
   "cell_type": "markdown",
   "metadata": {},
   "source": [
    "#### Вопрос 17\n",
    "#####  Какой актер принес меньше всего прибыли в 2012 году?"
   ]
  },
  {
   "cell_type": "code",
   "execution_count": 31,
   "metadata": {},
   "outputs": [
    {
     "data": {
      "text/plain": [
       "('Kirsten Dunst', -68109207)"
      ]
     },
     "metadata": {},
     "output_type": "display_data"
    }
   ],
   "source": [
    "a_value = Counter()\n",
    "data[(data.release_year == 2012)].T.apply(all_value, args=(a_value,'cast'))  \n",
    "display(sorted(a_value.items(), key=lambda x: x[1], reverse=False)[0])"
   ]
  },
  {
   "cell_type": "markdown",
   "metadata": {},
   "source": [
    "#### Вопрос 18\n",
    "#####  Какой актер снялся в большем количестве высокобюджетных фильмов? Примечание: в фильмах, где бюджет выше среднего по данной выборке."
   ]
  },
  {
   "cell_type": "code",
   "execution_count": 32,
   "metadata": {},
   "outputs": [
    {
     "name": "stdout",
     "output_type": "stream",
     "text": [
      "('Matt Damon', 18)\n"
     ]
    }
   ],
   "source": [
    "data_hi_budget=data[data.budget>data.budget.mean()]\n",
    "a_count = Counter()\n",
    "data_hi_budget.T.apply(all_count, args=(a_count,'cast'))      \n",
    "print(sorted(a_count.items(), key=lambda x: x[1], reverse=True)[0])"
   ]
  },
  {
   "cell_type": "markdown",
   "metadata": {},
   "source": [
    "#### Вопрос 19\n",
    "#####  В фильмах какого жанра больше всего снимался Nicolas Cage?"
   ]
  },
  {
   "cell_type": "code",
   "execution_count": 33,
   "metadata": {},
   "outputs": [
    {
     "name": "stdout",
     "output_type": "stream",
     "text": [
      "('Action', 17)\n"
     ]
    }
   ],
   "source": [
    "cage_movies=data[data.cast.str.contains('Nicolas Cage')]\n",
    "g_count = Counter()\n",
    "cage_movies.T.apply(all_count, args=(g_count,'genres'))      \n",
    "print(sorted(g_count.items(), key=lambda x: x[1], reverse=True)[0])"
   ]
  },
  {
   "cell_type": "markdown",
   "metadata": {},
   "source": [
    "#### Вопрос 20\n",
    "#####  Какая студия сняла больше всего фильмов?"
   ]
  },
  {
   "cell_type": "code",
   "execution_count": 38,
   "metadata": {},
   "outputs": [
    {
     "name": "stdout",
     "output_type": "stream",
     "text": [
      "('Universal Pictures', 173)\n"
     ]
    }
   ],
   "source": [
    "p_count = Counter()\n",
    "data.T.apply(all_count, args=(p_count,'production_companies'))      \n",
    "print(sorted(p_count.items(), key=lambda x: x[1], reverse=True)[0])"
   ]
  },
  {
   "cell_type": "markdown",
   "metadata": {},
   "source": [
    "#### Вопрос 21\n",
    "##### Какая студия сняла больше всего фильмов в 2015 году?"
   ]
  },
  {
   "cell_type": "code",
   "execution_count": 41,
   "metadata": {},
   "outputs": [
    {
     "name": "stdout",
     "output_type": "stream",
     "text": [
      "('Warner Bros.', 12)\n"
     ]
    }
   ],
   "source": [
    "p_count = Counter()\n",
    "data[(data.release_year == 2015)].T.apply(all_count, args=(p_count,'production_companies'))      \n",
    "print(sorted(p_count.items(), key=lambda x: x[1], reverse=True)[0])"
   ]
  },
  {
   "cell_type": "markdown",
   "metadata": {},
   "source": [
    "#### Вопрос 22\n",
    "##### Какая студия заработала больше всего денег в жанре комедий за все время?"
   ]
  },
  {
   "cell_type": "code",
   "execution_count": 43,
   "metadata": {},
   "outputs": [
    {
     "name": "stdout",
     "output_type": "stream",
     "text": [
      "('Universal Pictures', 8961545581)\n"
     ]
    }
   ],
   "source": [
    "p_value = Counter()\n",
    "data[data.genres.str.contains('Comedy')].T.apply(all_value, args=(p_value,'production_companies'))  \n",
    "print(sorted(p_value.items(), key=lambda x: x[1], reverse=True)[0])"
   ]
  },
  {
   "cell_type": "markdown",
   "metadata": {},
   "source": [
    "#### Вопрос 23\n",
    "##### Какая студия заработала больше всего денег в 2012 году?"
   ]
  },
  {
   "cell_type": "code",
   "execution_count": 44,
   "metadata": {},
   "outputs": [
    {
     "name": "stdout",
     "output_type": "stream",
     "text": [
      "('Columbia Pictures', 2501406608)\n"
     ]
    }
   ],
   "source": [
    "p_value = Counter()\n",
    "data[(data.release_year == 2012)].T.apply(all_value, args=(p_value,'production_companies'))  \n",
    "print(sorted(p_value.items(), key=lambda x: x[1], reverse=True)[0])"
   ]
  },
  {
   "cell_type": "markdown",
   "metadata": {},
   "source": [
    "#### Вопрос 24\n",
    "##### Самый убыточный фильм от Paramount Pictures?"
   ]
  },
  {
   "cell_type": "code",
   "execution_count": 49,
   "metadata": {},
   "outputs": [
    {
     "name": "stdout",
     "output_type": "stream",
     "text": [
      "tt0267626\n"
     ]
    }
   ],
   "source": [
    "print(data[data.production_companies.str.contains('Paramount Pictures')].sort_values(['value'],ascending=True).iloc[0].imdb_id)"
   ]
  },
  {
   "cell_type": "markdown",
   "metadata": {},
   "source": [
    "#### Вопрос 25\n",
    "##### Какой самый прибыльный год (в какой год студии заработали больше всего)?"
   ]
  },
  {
   "cell_type": "code",
   "execution_count": 62,
   "metadata": {},
   "outputs": [
    {
     "name": "stdout",
     "output_type": "stream",
     "text": [
      "2015\n"
     ]
    }
   ],
   "source": [
    "print(data.groupby(['release_year'])[['value']].sum().sort_values(['value'],ascending=False).iloc[0].name)"
   ]
  },
  {
   "cell_type": "markdown",
   "metadata": {},
   "source": [
    "#### Вопрос 26\n",
    "##### Какой самый прибыльный год для студии Warner Bros?"
   ]
  },
  {
   "cell_type": "code",
   "execution_count": 63,
   "metadata": {},
   "outputs": [
    {
     "name": "stdout",
     "output_type": "stream",
     "text": [
      "2014\n"
     ]
    }
   ],
   "source": [
    "print(data[data.production_companies.str.contains('Warner Bros')].groupby(['release_year'])[['value']].sum().sort_values(['value'],ascending=False).iloc[0].name)"
   ]
  },
  {
   "cell_type": "markdown",
   "metadata": {},
   "source": [
    "#### Вопрос 27\n",
    "##### В каком месяце за все годы суммарно вышло больше всего фильмов?"
   ]
  },
  {
   "cell_type": "code",
   "execution_count": 117,
   "metadata": {},
   "outputs": [
    {
     "name": "stdout",
     "output_type": "stream",
     "text": [
      "September\n"
     ]
    }
   ],
   "source": [
    "import datetime\n",
    "#копируем датафрейм, чтобы не портить основной\n",
    "data1=data\n",
    "data1.index =pd.to_datetime(data1['release_date'],format='%m/%d/%Y')\n",
    "months_df=data1.groupby(by=[data1.index.month]).size().reset_index(name='counts')\n",
    "monthinteger=months_df.sort_values(['counts'],ascending=False).iloc[0].release_date\n",
    "month = datetime.date(1900, monthinteger, 1).strftime('%B')\n",
    "\n",
    "print(month)"
   ]
  },
  {
   "cell_type": "markdown",
   "metadata": {},
   "source": [
    "#### Вопрос 28\n",
    "##### Сколько суммарно вышло фильмов летом (за июнь, июль, август)?"
   ]
  },
  {
   "cell_type": "code",
   "execution_count": 130,
   "metadata": {},
   "outputs": [
    {
     "data": {
      "text/plain": [
       "450"
      ]
     },
     "metadata": {},
     "output_type": "display_data"
    }
   ],
   "source": [
    "#добавляем колонку с временами  года (1-зима, 2-весна, 3-лето, 4-осень)\n",
    "months_df['season']=months_df.apply(lambda x: (x['release_date']%12 + 3)//3 ,axis=1)\n",
    "#поскольку  у iloc индексация  с  0 то лето это 2\n",
    "print(months_df.groupby(['season']).sum().iloc[2].counts)"
   ]
  },
  {
   "cell_type": "markdown",
   "metadata": {},
   "source": [
    "#### Вопрос 29\n",
    "##### Какой режиссер выпускает (суммарно по годам) больше всего фильмов зимой?"
   ]
  },
  {
   "cell_type": "code",
   "execution_count": 191,
   "metadata": {},
   "outputs": [
    {
     "name": "stdout",
     "output_type": "stream",
     "text": [
      "Peter Jackson\n"
     ]
    }
   ],
   "source": [
    "winter_films= data1[(data1.index.month == 12) | (data1.index.month == 1) | (data1.index.month == 2)] \n",
    "d_count = Counter()\n",
    "winter_films.T.apply(all_count, args=(d_count,'director'))      \n",
    "print(sorted(d_count.items(), key=lambda x: x[1], reverse=True)[0][0])"
   ]
  },
  {
   "cell_type": "markdown",
   "metadata": {},
   "source": [
    "#### Вопрос 30\n",
    "##### Какой месяц чаще всего самый прибыльный в году?\n",
    "\n",
    " Почему нужно считать по годам, а не просто взять самый прибыльный месяц за весь период? Киноиндустрия активно развивается, прибыль компаний растет с каждым годом (например, в 2014 г. индустрия заработала в 2 раза больше, чем в 2004). Поэтому прибыльность более поздних месяцев будет значительно перевешивать предыдущие, что может привести к искажению выводов. "
   ]
  },
  {
   "cell_type": "code",
   "execution_count": 190,
   "metadata": {},
   "outputs": [
    {
     "name": "stdout",
     "output_type": "stream",
     "text": [
      "June\n"
     ]
    }
   ],
   "source": [
    "#создаем колонку  для построения  сводной таблицы\n",
    "data1['month']=data1.index.month\n",
    "#строим сводную таблицу, суммируя прибыль по месяцам, получаем id - то  есть номер месяца  в  виде (value,номер)\n",
    "pivot = data.pivot_table(values=['value'],\n",
    " index=['release_year'],\n",
    " columns=['month'],\n",
    " aggfunc='sum').idxmax(axis=1)\n",
    "\n",
    "# ресетим  индекс, именуем колонку с месяцами  именем month , группируем  по этой колонку, считаем группировки, берем максимум\n",
    "month=pivot.reset_index(name='month').groupby('month').size().reset_index(name='counts').sort_values(['counts'],ascending=False).iloc[0].month\n",
    "# получаем название  масяца\n",
    "print(datetime.date(1900, month[1], 1).strftime('%B'))"
   ]
  },
  {
   "cell_type": "markdown",
   "metadata": {},
   "source": [
    "#### Вопрос 31\n",
    "##### Названия фильмов какой студии в среднем самые длинные по количеству символов?"
   ]
  },
  {
   "cell_type": "code",
   "execution_count": 241,
   "metadata": {},
   "outputs": [
    {
     "name": "stdout",
     "output_type": "stream",
     "text": [
      "Four By Two Productions\n"
     ]
    }
   ],
   "source": [
    "studio_films={}\n",
    "def s_films(a):\n",
    "    s_list=a['production_companies'].split('|')\n",
    "    for studio in s_list:\n",
    "        n_len=len(a['original_title'])\n",
    "        if studio in studio_films.keys():\n",
    "            studio_films[studio].append(n_len)\n",
    "        else:    \n",
    "            studio_films.update({studio : [n_len]})\n",
    "        \n",
    "\n",
    "\n",
    "data.T.apply(s_films)\n",
    "studio_films_df = pd.DataFrame.from_dict(studio_films,  orient='index', dtype ='int')\n",
    "print(studio_films_df.T.mean().sort_values(ascending = False).reset_index(name='counts').loc[0]['index'])"
   ]
  },
  {
   "cell_type": "markdown",
   "metadata": {},
   "source": [
    "#### Вопрос 32\n",
    "##### Названия фильмов какой студии в среднем самые длинные по количеству слов?"
   ]
  },
  {
   "cell_type": "code",
   "execution_count": 242,
   "metadata": {},
   "outputs": [
    {
     "name": "stdout",
     "output_type": "stream",
     "text": [
      "Four By Two Productions\n"
     ]
    }
   ],
   "source": [
    "studio_films={}\n",
    "def s_films(a):\n",
    "    s_list=a['production_companies'].split('|')\n",
    "    for studio in s_list:\n",
    "        n_len=len(str.split(a['original_title']))\n",
    "        if studio in studio_films.keys():\n",
    "            studio_films[studio].append(n_len)\n",
    "        else:    \n",
    "            studio_films.update({studio : [n_len]})\n",
    "        \n",
    "\n",
    "\n",
    "data.T.apply(s_films)\n",
    "studio_films_df = pd.DataFrame.from_dict(studio_films,  orient='index', dtype ='int')\n",
    "print(studio_films_df.T.mean().sort_values(ascending = False).reset_index(name='counts').loc[0]['index'])"
   ]
  },
  {
   "cell_type": "markdown",
   "metadata": {},
   "source": [
    "#### Вопрос 33\n",
    "##### Сколько разных слов используется в названиях фильмов (без учета регистра)?"
   ]
  },
  {
   "cell_type": "code",
   "execution_count": 244,
   "metadata": {},
   "outputs": [
    {
     "data": {
      "text/plain": [
       "2461"
      ]
     },
     "metadata": {},
     "output_type": "display_data"
    }
   ],
   "source": [
    "words_count=Counter()\n",
    "\n",
    "def w_count(a):\n",
    "    w_list=str.split(str.lower(a['original_title']))\n",
    "    for w in w_list:\n",
    "        words_count[w]+=1\n",
    "\n",
    "        \n",
    "data.T.apply(w_count)\n",
    "display(len(words_count))\n"
   ]
  },
  {
   "cell_type": "markdown",
   "metadata": {},
   "source": [
    "#### Вопрос 34\n",
    "##### Какие фильмы входят в 1 % лучших по рейтингу?"
   ]
  },
  {
   "cell_type": "code",
   "execution_count": 245,
   "metadata": {},
   "outputs": [
    {
     "data": {
      "text/plain": [
       "original_title\n",
       "The Dark Knight                                  8.1\n",
       "Inside Out                                       8.0\n",
       "Interstellar                                     8.0\n",
       "The Imitation Game                               8.0\n",
       "Room                                             8.0\n",
       "Gone Girl                                        7.9\n",
       "The Lord of the Rings: The Return of the King    7.9\n",
       "The Grand Budapest Hotel                         7.9\n",
       "Memento                                          7.9\n",
       "The Pianist                                      7.9\n",
       "The Wolf of Wall Street                          7.9\n",
       "Guardians of the Galaxy                          7.9\n",
       "12 Years a Slave                                 7.9\n",
       "Inception                                        7.9\n",
       "The Theory of Everything                         7.8\n",
       "Eternal Sunshine of the Spotless Mind            7.8\n",
       "There Will Be Blood                              7.8\n",
       "Prisoners                                        7.8\n",
       "Name: vote_average, dtype: float64"
      ]
     },
     "metadata": {},
     "output_type": "display_data"
    }
   ],
   "source": [
    "display(data.groupby(['original_title'])['vote_average'].max().sort_values(ascending = False).head(int(len(data)/100)))"
   ]
  },
  {
   "cell_type": "markdown",
   "metadata": {},
   "source": [
    "#### Вопрос 35\n",
    "##### Какие актеры чаще всего снимаются в одном фильме вместе?"
   ]
  },
  {
   "cell_type": "code",
   "execution_count": 246,
   "metadata": {},
   "outputs": [
    {
     "data": {
      "text/plain": [
       "Daniel Radcliffe and Emma Watson             8\n",
       "Daniel Radcliffe and Rupert Grint            8\n",
       "Rupert Grint and Emma Watson                 7\n",
       "Johnny Depp and Helena Bonham Carter         6\n",
       "Ben Stiller and Owen Wilson                  6\n",
       "                                            ..\n",
       "Sean Penn and Emma Stone                     1\n",
       "Sean Penn and Ryan Gosling                   1\n",
       "Helena Bonham Carter and James Badge Dale    1\n",
       "William Fichtner and James Badge Dale        1\n",
       "Chris Pratt and Bryce Dallas Howard          1\n",
       "Name: films, Length: 18131, dtype: int64"
      ]
     },
     "metadata": {},
     "output_type": "display_data"
    }
   ],
   "source": [
    "from itertools import combinations\n",
    "\n",
    "f_a_combs=Counter()\n",
    "def a_combs(a):\n",
    "    a_list=a['cast'].split('|')\n",
    "    a_pairs = list(combinations(a_list, 2))\n",
    "    for a_p in a_pairs:\n",
    "        glue=' and '\n",
    "        a_p_key = glue.join(a_p)\n",
    "        f_a_combs[a_p_key]+=1\n",
    "\n",
    "data.T.apply(a_combs)\n",
    "f_a_combs_df = pd.DataFrame.from_dict(f_a_combs,  orient='index', dtype ='int', columns=['films'])\n",
    "display(f_a_combs_df.films.sort_values(ascending = False))"
   ]
  },
  {
   "cell_type": "markdown",
   "metadata": {},
   "source": [
    "#### Вопрос 36\n",
    "##### У какого из режиссеров самый высокий процент фильмов со сборами выше бюджета?"
   ]
  },
  {
   "cell_type": "code",
   "execution_count": 248,
   "metadata": {},
   "outputs": [
    {
     "data": {
      "text/html": [
       "<div>\n",
       "<style scoped>\n",
       "    .dataframe tbody tr th:only-of-type {\n",
       "        vertical-align: middle;\n",
       "    }\n",
       "\n",
       "    .dataframe tbody tr th {\n",
       "        vertical-align: top;\n",
       "    }\n",
       "\n",
       "    .dataframe thead th {\n",
       "        text-align: right;\n",
       "    }\n",
       "</style>\n",
       "<table border=\"1\" class=\"dataframe\">\n",
       "  <thead>\n",
       "    <tr style=\"text-align: right;\">\n",
       "      <th></th>\n",
       "      <th>films_x</th>\n",
       "      <th>films_y</th>\n",
       "      <th>percent</th>\n",
       "    </tr>\n",
       "  </thead>\n",
       "  <tbody>\n",
       "    <tr>\n",
       "      <th>Ridley Scott</th>\n",
       "      <td>12</td>\n",
       "      <td>12</td>\n",
       "      <td>100.0</td>\n",
       "    </tr>\n",
       "    <tr>\n",
       "      <th>Steven Spielberg</th>\n",
       "      <td>10</td>\n",
       "      <td>10</td>\n",
       "      <td>100.0</td>\n",
       "    </tr>\n",
       "    <tr>\n",
       "      <th>Tim Burton</th>\n",
       "      <td>9</td>\n",
       "      <td>9</td>\n",
       "      <td>100.0</td>\n",
       "    </tr>\n",
       "    <tr>\n",
       "      <th>Antoine Fuqua</th>\n",
       "      <td>8</td>\n",
       "      <td>8</td>\n",
       "      <td>100.0</td>\n",
       "    </tr>\n",
       "    <tr>\n",
       "      <th>Christopher Nolan</th>\n",
       "      <td>8</td>\n",
       "      <td>8</td>\n",
       "      <td>100.0</td>\n",
       "    </tr>\n",
       "    <tr>\n",
       "      <th>Peter Jackson</th>\n",
       "      <td>8</td>\n",
       "      <td>8</td>\n",
       "      <td>100.0</td>\n",
       "    </tr>\n",
       "    <tr>\n",
       "      <th>Michael Bay</th>\n",
       "      <td>8</td>\n",
       "      <td>8</td>\n",
       "      <td>100.0</td>\n",
       "    </tr>\n",
       "    <tr>\n",
       "      <th>Brett Ratner</th>\n",
       "      <td>8</td>\n",
       "      <td>8</td>\n",
       "      <td>100.0</td>\n",
       "    </tr>\n",
       "    <tr>\n",
       "      <th>Francis Lawrence</th>\n",
       "      <td>6</td>\n",
       "      <td>6</td>\n",
       "      <td>100.0</td>\n",
       "    </tr>\n",
       "    <tr>\n",
       "      <th>Adam McKay</th>\n",
       "      <td>6</td>\n",
       "      <td>6</td>\n",
       "      <td>100.0</td>\n",
       "    </tr>\n",
       "    <tr>\n",
       "      <th>Robert Zemeckis</th>\n",
       "      <td>6</td>\n",
       "      <td>6</td>\n",
       "      <td>100.0</td>\n",
       "    </tr>\n",
       "    <tr>\n",
       "      <th>Andy Fickman</th>\n",
       "      <td>6</td>\n",
       "      <td>6</td>\n",
       "      <td>100.0</td>\n",
       "    </tr>\n",
       "    <tr>\n",
       "      <th>David Fincher</th>\n",
       "      <td>6</td>\n",
       "      <td>6</td>\n",
       "      <td>100.0</td>\n",
       "    </tr>\n",
       "    <tr>\n",
       "      <th>Tim Story</th>\n",
       "      <td>6</td>\n",
       "      <td>6</td>\n",
       "      <td>100.0</td>\n",
       "    </tr>\n",
       "    <tr>\n",
       "      <th>Zack Snyder</th>\n",
       "      <td>6</td>\n",
       "      <td>6</td>\n",
       "      <td>100.0</td>\n",
       "    </tr>\n",
       "  </tbody>\n",
       "</table>\n",
       "</div>"
      ],
      "text/plain": [
       "                   films_x  films_y  percent\n",
       "Ridley Scott            12       12    100.0\n",
       "Steven Spielberg        10       10    100.0\n",
       "Tim Burton               9        9    100.0\n",
       "Antoine Fuqua            8        8    100.0\n",
       "Christopher Nolan        8        8    100.0\n",
       "Peter Jackson            8        8    100.0\n",
       "Michael Bay              8        8    100.0\n",
       "Brett Ratner             8        8    100.0\n",
       "Francis Lawrence         6        6    100.0\n",
       "Adam McKay               6        6    100.0\n",
       "Robert Zemeckis          6        6    100.0\n",
       "Andy Fickman             6        6    100.0\n",
       "David Fincher            6        6    100.0\n",
       "Tim Story                6        6    100.0\n",
       "Zack Snyder              6        6    100.0"
      ]
     },
     "metadata": {},
     "output_type": "display_data"
    }
   ],
   "source": [
    "dir_f_count = Counter()\n",
    "def dir_count(a):\n",
    "    d_list=a['director'].split('|')\n",
    "    for director in d_list:\n",
    "        dir_f_count[director]+=1\n",
    "\n",
    "data_rb=data[(data.revenue > data.budget )]\n",
    "data_rb.T.apply(dir_count)\n",
    "\n",
    "dir_f_count_df = pd.DataFrame.from_dict(dir_f_count,orient='index', dtype ='int',columns= ['films'])\n",
    "dir_f_count = Counter()\n",
    "data.T.apply(dir_count)\n",
    "dir_f_count_df_all = pd.DataFrame.from_dict(dir_f_count,orient='index', dtype ='int',columns= ['films'])\n",
    "\n",
    "\n",
    "dir_merged=pd.merge(dir_f_count_df_all, dir_f_count_df, left_index=True, right_index=True)\n",
    "dir_merged['percent']=(dir_merged['films_y']/dir_merged['films_x'])*100\n",
    "\n",
    "display(dir_merged.sort_values([\"percent\", \"films_x\"], ascending=False).head(15))\n"
   ]
  },
  {
   "cell_type": "code",
   "execution_count": null,
   "metadata": {},
   "outputs": [],
   "source": []
  }
 ],
 "metadata": {
  "kernelspec": {
   "display_name": "Python 3",
   "language": "python",
   "name": "python3"
  },
  "language_info": {
   "codemirror_mode": {
    "name": "ipython",
    "version": 3
   },
   "file_extension": ".py",
   "mimetype": "text/x-python",
   "name": "python",
   "nbconvert_exporter": "python",
   "pygments_lexer": "ipython3",
   "version": "3.7.4"
  }
 },
 "nbformat": 4,
 "nbformat_minor": 4
}
